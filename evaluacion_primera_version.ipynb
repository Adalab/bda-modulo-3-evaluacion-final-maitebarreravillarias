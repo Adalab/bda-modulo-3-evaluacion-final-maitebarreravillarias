{
 "cells": [
  {
   "cell_type": "code",
   "execution_count": 132,
   "metadata": {},
   "outputs": [],
   "source": [
    "#importación de librerías\n",
    "\n",
    "import numpy as np\n",
    "import pandas as pd\n",
    "\n",
    "pd.set_option('display.max_columns', None) # para poder visualizar todas las columnas de los DataFrames"
   ]
  },
  {
   "cell_type": "code",
   "execution_count": 133,
   "metadata": {},
   "outputs": [
    {
     "data": {
      "text/html": [
       "<div>\n",
       "<style scoped>\n",
       "    .dataframe tbody tr th:only-of-type {\n",
       "        vertical-align: middle;\n",
       "    }\n",
       "\n",
       "    .dataframe tbody tr th {\n",
       "        vertical-align: top;\n",
       "    }\n",
       "\n",
       "    .dataframe thead th {\n",
       "        text-align: right;\n",
       "    }\n",
       "</style>\n",
       "<table border=\"1\" class=\"dataframe\">\n",
       "  <thead>\n",
       "    <tr style=\"text-align: right;\">\n",
       "      <th></th>\n",
       "      <th>Year</th>\n",
       "      <th>Month</th>\n",
       "      <th>Flights Booked</th>\n",
       "      <th>Flights with Companions</th>\n",
       "      <th>Total Flights</th>\n",
       "      <th>Distance</th>\n",
       "      <th>Points Accumulated</th>\n",
       "      <th>Points Redeemed</th>\n",
       "      <th>Dollar Cost Points Redeemed</th>\n",
       "    </tr>\n",
       "    <tr>\n",
       "      <th>Loyalty Number</th>\n",
       "      <th></th>\n",
       "      <th></th>\n",
       "      <th></th>\n",
       "      <th></th>\n",
       "      <th></th>\n",
       "      <th></th>\n",
       "      <th></th>\n",
       "      <th></th>\n",
       "      <th></th>\n",
       "    </tr>\n",
       "  </thead>\n",
       "  <tbody>\n",
       "    <tr>\n",
       "      <th>100018</th>\n",
       "      <td>2017</td>\n",
       "      <td>1</td>\n",
       "      <td>3</td>\n",
       "      <td>0</td>\n",
       "      <td>3</td>\n",
       "      <td>1521</td>\n",
       "      <td>152.0</td>\n",
       "      <td>0</td>\n",
       "      <td>0</td>\n",
       "    </tr>\n",
       "    <tr>\n",
       "      <th>100102</th>\n",
       "      <td>2017</td>\n",
       "      <td>1</td>\n",
       "      <td>10</td>\n",
       "      <td>4</td>\n",
       "      <td>14</td>\n",
       "      <td>2030</td>\n",
       "      <td>203.0</td>\n",
       "      <td>0</td>\n",
       "      <td>0</td>\n",
       "    </tr>\n",
       "    <tr>\n",
       "      <th>100140</th>\n",
       "      <td>2017</td>\n",
       "      <td>1</td>\n",
       "      <td>6</td>\n",
       "      <td>0</td>\n",
       "      <td>6</td>\n",
       "      <td>1200</td>\n",
       "      <td>120.0</td>\n",
       "      <td>0</td>\n",
       "      <td>0</td>\n",
       "    </tr>\n",
       "    <tr>\n",
       "      <th>100214</th>\n",
       "      <td>2017</td>\n",
       "      <td>1</td>\n",
       "      <td>0</td>\n",
       "      <td>0</td>\n",
       "      <td>0</td>\n",
       "      <td>0</td>\n",
       "      <td>0.0</td>\n",
       "      <td>0</td>\n",
       "      <td>0</td>\n",
       "    </tr>\n",
       "    <tr>\n",
       "      <th>100272</th>\n",
       "      <td>2017</td>\n",
       "      <td>1</td>\n",
       "      <td>0</td>\n",
       "      <td>0</td>\n",
       "      <td>0</td>\n",
       "      <td>0</td>\n",
       "      <td>0.0</td>\n",
       "      <td>0</td>\n",
       "      <td>0</td>\n",
       "    </tr>\n",
       "  </tbody>\n",
       "</table>\n",
       "</div>"
      ],
      "text/plain": [
       "                Year  Month  Flights Booked  Flights with Companions  \\\n",
       "Loyalty Number                                                         \n",
       "100018          2017      1               3                        0   \n",
       "100102          2017      1              10                        4   \n",
       "100140          2017      1               6                        0   \n",
       "100214          2017      1               0                        0   \n",
       "100272          2017      1               0                        0   \n",
       "\n",
       "                Total Flights  Distance  Points Accumulated  Points Redeemed  \\\n",
       "Loyalty Number                                                                 \n",
       "100018                      3      1521               152.0                0   \n",
       "100102                     14      2030               203.0                0   \n",
       "100140                      6      1200               120.0                0   \n",
       "100214                      0         0                 0.0                0   \n",
       "100272                      0         0                 0.0                0   \n",
       "\n",
       "                Dollar Cost Points Redeemed  \n",
       "Loyalty Number                               \n",
       "100018                                    0  \n",
       "100102                                    0  \n",
       "100140                                    0  \n",
       "100214                                    0  \n",
       "100272                                    0  "
      ]
     },
     "execution_count": 133,
     "metadata": {},
     "output_type": "execute_result"
    }
   ],
   "source": [
    "# abrir csv\n",
    "\n",
    "df1 = pd.read_csv(\"files/Customer Flight Activity.csv\", index_col = 0)\n",
    "df1.head()\n"
   ]
  },
  {
   "cell_type": "code",
   "execution_count": 134,
   "metadata": {},
   "outputs": [
    {
     "data": {
      "text/html": [
       "<div>\n",
       "<style scoped>\n",
       "    .dataframe tbody tr th:only-of-type {\n",
       "        vertical-align: middle;\n",
       "    }\n",
       "\n",
       "    .dataframe tbody tr th {\n",
       "        vertical-align: top;\n",
       "    }\n",
       "\n",
       "    .dataframe thead th {\n",
       "        text-align: right;\n",
       "    }\n",
       "</style>\n",
       "<table border=\"1\" class=\"dataframe\">\n",
       "  <thead>\n",
       "    <tr style=\"text-align: right;\">\n",
       "      <th></th>\n",
       "      <th>Year</th>\n",
       "      <th>Month</th>\n",
       "      <th>Flights Booked</th>\n",
       "      <th>Flights with Companions</th>\n",
       "      <th>Total Flights</th>\n",
       "      <th>Distance</th>\n",
       "      <th>Points Accumulated</th>\n",
       "      <th>Points Redeemed</th>\n",
       "      <th>Dollar Cost Points Redeemed</th>\n",
       "    </tr>\n",
       "    <tr>\n",
       "      <th>Loyalty Number</th>\n",
       "      <th></th>\n",
       "      <th></th>\n",
       "      <th></th>\n",
       "      <th></th>\n",
       "      <th></th>\n",
       "      <th></th>\n",
       "      <th></th>\n",
       "      <th></th>\n",
       "      <th></th>\n",
       "    </tr>\n",
       "  </thead>\n",
       "  <tbody>\n",
       "    <tr>\n",
       "      <th>999902</th>\n",
       "      <td>2018</td>\n",
       "      <td>12</td>\n",
       "      <td>0</td>\n",
       "      <td>0</td>\n",
       "      <td>0</td>\n",
       "      <td>0</td>\n",
       "      <td>0.0</td>\n",
       "      <td>0</td>\n",
       "      <td>0</td>\n",
       "    </tr>\n",
       "    <tr>\n",
       "      <th>999911</th>\n",
       "      <td>2018</td>\n",
       "      <td>12</td>\n",
       "      <td>0</td>\n",
       "      <td>0</td>\n",
       "      <td>0</td>\n",
       "      <td>0</td>\n",
       "      <td>0.0</td>\n",
       "      <td>0</td>\n",
       "      <td>0</td>\n",
       "    </tr>\n",
       "    <tr>\n",
       "      <th>999940</th>\n",
       "      <td>2018</td>\n",
       "      <td>12</td>\n",
       "      <td>3</td>\n",
       "      <td>0</td>\n",
       "      <td>3</td>\n",
       "      <td>1233</td>\n",
       "      <td>123.0</td>\n",
       "      <td>0</td>\n",
       "      <td>0</td>\n",
       "    </tr>\n",
       "    <tr>\n",
       "      <th>999982</th>\n",
       "      <td>2018</td>\n",
       "      <td>12</td>\n",
       "      <td>0</td>\n",
       "      <td>0</td>\n",
       "      <td>0</td>\n",
       "      <td>0</td>\n",
       "      <td>0.0</td>\n",
       "      <td>0</td>\n",
       "      <td>0</td>\n",
       "    </tr>\n",
       "    <tr>\n",
       "      <th>999986</th>\n",
       "      <td>2018</td>\n",
       "      <td>12</td>\n",
       "      <td>0</td>\n",
       "      <td>0</td>\n",
       "      <td>0</td>\n",
       "      <td>0</td>\n",
       "      <td>0.0</td>\n",
       "      <td>0</td>\n",
       "      <td>0</td>\n",
       "    </tr>\n",
       "  </tbody>\n",
       "</table>\n",
       "</div>"
      ],
      "text/plain": [
       "                Year  Month  Flights Booked  Flights with Companions  \\\n",
       "Loyalty Number                                                         \n",
       "999902          2018     12               0                        0   \n",
       "999911          2018     12               0                        0   \n",
       "999940          2018     12               3                        0   \n",
       "999982          2018     12               0                        0   \n",
       "999986          2018     12               0                        0   \n",
       "\n",
       "                Total Flights  Distance  Points Accumulated  Points Redeemed  \\\n",
       "Loyalty Number                                                                 \n",
       "999902                      0         0                 0.0                0   \n",
       "999911                      0         0                 0.0                0   \n",
       "999940                      3      1233               123.0                0   \n",
       "999982                      0         0                 0.0                0   \n",
       "999986                      0         0                 0.0                0   \n",
       "\n",
       "                Dollar Cost Points Redeemed  \n",
       "Loyalty Number                               \n",
       "999902                                    0  \n",
       "999911                                    0  \n",
       "999940                                    0  \n",
       "999982                                    0  \n",
       "999986                                    0  "
      ]
     },
     "execution_count": 134,
     "metadata": {},
     "output_type": "execute_result"
    }
   ],
   "source": [
    "df1.tail()"
   ]
  },
  {
   "cell_type": "code",
   "execution_count": 135,
   "metadata": {},
   "outputs": [
    {
     "data": {
      "text/plain": [
       "Index(['Year', 'Month', 'Flights Booked', 'Flights with Companions',\n",
       "       'Total Flights', 'Distance', 'Points Accumulated', 'Points Redeemed',\n",
       "       'Dollar Cost Points Redeemed'],\n",
       "      dtype='object')"
      ]
     },
     "execution_count": 135,
     "metadata": {},
     "output_type": "execute_result"
    }
   ],
   "source": [
    "df1.columns"
   ]
  },
  {
   "cell_type": "code",
   "execution_count": 136,
   "metadata": {},
   "outputs": [
    {
     "data": {
      "text/plain": [
       "405624"
      ]
     },
     "execution_count": 136,
     "metadata": {},
     "output_type": "execute_result"
    }
   ],
   "source": [
    "#número de filas\n",
    "df1.shape[0]"
   ]
  },
  {
   "cell_type": "code",
   "execution_count": 137,
   "metadata": {},
   "outputs": [
    {
     "data": {
      "text/plain": [
       "Index(['Year', 'Month', 'Flights Booked', 'Flights with Companions',\n",
       "       'Total Flights', 'Distance', 'Points Accumulated', 'Points Redeemed',\n",
       "       'Dollar Cost Points Redeemed'],\n",
       "      dtype='object')"
      ]
     },
     "execution_count": 137,
     "metadata": {},
     "output_type": "execute_result"
    }
   ],
   "source": [
    "columnas1 = df1.select_dtypes(include =[\"int\", \"float\"]).columns\n",
    "columnas1\n",
    "\n",
    "#confirmar que todas las columnas son numéricas"
   ]
  },
  {
   "cell_type": "code",
   "execution_count": 138,
   "metadata": {},
   "outputs": [
    {
     "name": "stdout",
     "output_type": "stream",
     "text": [
      "<class 'pandas.core.frame.DataFrame'>\n",
      "Int64Index: 405624 entries, 100018 to 999986\n",
      "Data columns (total 9 columns):\n",
      " #   Column                       Non-Null Count   Dtype  \n",
      "---  ------                       --------------   -----  \n",
      " 0   Year                         405624 non-null  int64  \n",
      " 1   Month                        405624 non-null  int64  \n",
      " 2   Flights Booked               405624 non-null  int64  \n",
      " 3   Flights with Companions      405624 non-null  int64  \n",
      " 4   Total Flights                405624 non-null  int64  \n",
      " 5   Distance                     405624 non-null  int64  \n",
      " 6   Points Accumulated           405624 non-null  float64\n",
      " 7   Points Redeemed              405624 non-null  int64  \n",
      " 8   Dollar Cost Points Redeemed  405624 non-null  int64  \n",
      "dtypes: float64(1), int64(8)\n",
      "memory usage: 30.9 MB\n"
     ]
    }
   ],
   "source": [
    "df1.info()\n",
    "\n",
    "# \"Points Accumulated\" a lo mejor convertir en int; Year Month, a lo mejor convertir en fecha"
   ]
  },
  {
   "cell_type": "code",
   "execution_count": 139,
   "metadata": {},
   "outputs": [
    {
     "data": {
      "text/plain": [
       "Loyalty Number\n",
       "100018    152.0\n",
       "100102    203.0\n",
       "100140    120.0\n",
       "100214      0.0\n",
       "100272      0.0\n",
       "          ...  \n",
       "999902      0.0\n",
       "999911      0.0\n",
       "999940    123.0\n",
       "999982      0.0\n",
       "999986      0.0\n",
       "Name: Points Accumulated, Length: 405624, dtype: float64"
      ]
     },
     "execution_count": 139,
     "metadata": {},
     "output_type": "execute_result"
    }
   ],
   "source": [
    "df1[\"Points Accumulated\"]\n",
    "\n",
    "#si lo veo necesario, este puede convertirse a int"
   ]
  },
  {
   "cell_type": "code",
   "execution_count": 140,
   "metadata": {},
   "outputs": [
    {
     "data": {
      "text/plain": [
       "Index(['Year', 'Month', 'Flights_Booked', 'Flights_with_Companions',\n",
       "       'Total_Flights', 'Distance', 'Points_Accumulated', 'Points_Redeemed',\n",
       "       'Dollar_Cost_Points_Redeemed'],\n",
       "      dtype='object')"
      ]
     },
     "execution_count": 140,
     "metadata": {},
     "output_type": "execute_result"
    }
   ],
   "source": [
    "# cambiar nombre de las columnas quitando espacio, porque si no, no puedo utilizar .loc\n",
    "df1.columns = df1.columns.str.replace(\" \", \"_\")\n",
    "df1.columns"
   ]
  },
  {
   "cell_type": "code",
   "execution_count": 141,
   "metadata": {},
   "outputs": [
    {
     "data": {
      "text/plain": [
       "Year                           0\n",
       "Month                          0\n",
       "Flights_Booked                 0\n",
       "Flights_with_Companions        0\n",
       "Total_Flights                  0\n",
       "Distance                       0\n",
       "Points_Accumulated             0\n",
       "Points_Redeemed                0\n",
       "Dollar_Cost_Points_Redeemed    0\n",
       "dtype: int64"
      ]
     },
     "execution_count": 141,
     "metadata": {},
     "output_type": "execute_result"
    }
   ],
   "source": [
    "df1.isnull().sum()\n",
    "\n",
    "# buscando valores nulos\n"
   ]
  },
  {
   "cell_type": "code",
   "execution_count": 142,
   "metadata": {},
   "outputs": [
    {
     "data": {
      "text/plain": [
       "Loyalty Number\n",
       "100018    False\n",
       "100102    False\n",
       "100140    False\n",
       "100214    False\n",
       "100272    False\n",
       "          ...  \n",
       "999902    False\n",
       "999911    False\n",
       "999940    False\n",
       "999982    False\n",
       "999986    False\n",
       "Name: Points_Accumulated, Length: 405624, dtype: bool"
      ]
     },
     "execution_count": 142,
     "metadata": {},
     "output_type": "execute_result"
    }
   ],
   "source": [
    "df1[\"Flights_Booked\"].isnull()\n",
    "\n",
    "df1[\"Points_Accumulated\"].isnull()\n",
    "\n",
    "#comprobando en un par de columnas que no hay nulos"
   ]
  },
  {
   "cell_type": "code",
   "execution_count": 143,
   "metadata": {},
   "outputs": [
    {
     "data": {
      "text/plain": [
       "228705"
      ]
     },
     "execution_count": 143,
     "metadata": {},
     "output_type": "execute_result"
    }
   ],
   "source": [
    "#comprobando número de nulos\n",
    "df1.duplicated().sum()"
   ]
  },
  {
   "cell_type": "code",
   "execution_count": 144,
   "metadata": {},
   "outputs": [
    {
     "data": {
      "text/html": [
       "<div>\n",
       "<style scoped>\n",
       "    .dataframe tbody tr th:only-of-type {\n",
       "        vertical-align: middle;\n",
       "    }\n",
       "\n",
       "    .dataframe tbody tr th {\n",
       "        vertical-align: top;\n",
       "    }\n",
       "\n",
       "    .dataframe thead th {\n",
       "        text-align: right;\n",
       "    }\n",
       "</style>\n",
       "<table border=\"1\" class=\"dataframe\">\n",
       "  <thead>\n",
       "    <tr style=\"text-align: right;\">\n",
       "      <th></th>\n",
       "      <th>Year</th>\n",
       "      <th>Month</th>\n",
       "      <th>Flights_Booked</th>\n",
       "      <th>Flights_with_Companions</th>\n",
       "      <th>Total_Flights</th>\n",
       "      <th>Distance</th>\n",
       "      <th>Points_Accumulated</th>\n",
       "      <th>Points_Redeemed</th>\n",
       "      <th>Dollar_Cost_Points_Redeemed</th>\n",
       "    </tr>\n",
       "    <tr>\n",
       "      <th>Loyalty Number</th>\n",
       "      <th></th>\n",
       "      <th></th>\n",
       "      <th></th>\n",
       "      <th></th>\n",
       "      <th></th>\n",
       "      <th></th>\n",
       "      <th></th>\n",
       "      <th></th>\n",
       "      <th></th>\n",
       "    </tr>\n",
       "  </thead>\n",
       "  <tbody>\n",
       "    <tr>\n",
       "      <th>139479</th>\n",
       "      <td>2018</td>\n",
       "      <td>11</td>\n",
       "      <td>0</td>\n",
       "      <td>0</td>\n",
       "      <td>0</td>\n",
       "      <td>0</td>\n",
       "      <td>0.0</td>\n",
       "      <td>0</td>\n",
       "      <td>0</td>\n",
       "    </tr>\n",
       "    <tr>\n",
       "      <th>710053</th>\n",
       "      <td>2017</td>\n",
       "      <td>9</td>\n",
       "      <td>0</td>\n",
       "      <td>0</td>\n",
       "      <td>0</td>\n",
       "      <td>0</td>\n",
       "      <td>0.0</td>\n",
       "      <td>0</td>\n",
       "      <td>0</td>\n",
       "    </tr>\n",
       "    <tr>\n",
       "      <th>288774</th>\n",
       "      <td>2017</td>\n",
       "      <td>2</td>\n",
       "      <td>0</td>\n",
       "      <td>0</td>\n",
       "      <td>0</td>\n",
       "      <td>0</td>\n",
       "      <td>0.0</td>\n",
       "      <td>0</td>\n",
       "      <td>0</td>\n",
       "    </tr>\n",
       "    <tr>\n",
       "      <th>921102</th>\n",
       "      <td>2017</td>\n",
       "      <td>12</td>\n",
       "      <td>0</td>\n",
       "      <td>0</td>\n",
       "      <td>0</td>\n",
       "      <td>0</td>\n",
       "      <td>0.0</td>\n",
       "      <td>0</td>\n",
       "      <td>0</td>\n",
       "    </tr>\n",
       "    <tr>\n",
       "      <th>548752</th>\n",
       "      <td>2017</td>\n",
       "      <td>2</td>\n",
       "      <td>0</td>\n",
       "      <td>0</td>\n",
       "      <td>0</td>\n",
       "      <td>0</td>\n",
       "      <td>0.0</td>\n",
       "      <td>0</td>\n",
       "      <td>0</td>\n",
       "    </tr>\n",
       "    <tr>\n",
       "      <th>258248</th>\n",
       "      <td>2018</td>\n",
       "      <td>8</td>\n",
       "      <td>0</td>\n",
       "      <td>0</td>\n",
       "      <td>0</td>\n",
       "      <td>0</td>\n",
       "      <td>0.0</td>\n",
       "      <td>0</td>\n",
       "      <td>0</td>\n",
       "    </tr>\n",
       "    <tr>\n",
       "      <th>926451</th>\n",
       "      <td>2018</td>\n",
       "      <td>11</td>\n",
       "      <td>0</td>\n",
       "      <td>0</td>\n",
       "      <td>0</td>\n",
       "      <td>0</td>\n",
       "      <td>0.0</td>\n",
       "      <td>0</td>\n",
       "      <td>0</td>\n",
       "    </tr>\n",
       "    <tr>\n",
       "      <th>270183</th>\n",
       "      <td>2018</td>\n",
       "      <td>6</td>\n",
       "      <td>0</td>\n",
       "      <td>0</td>\n",
       "      <td>0</td>\n",
       "      <td>0</td>\n",
       "      <td>0.0</td>\n",
       "      <td>0</td>\n",
       "      <td>0</td>\n",
       "    </tr>\n",
       "    <tr>\n",
       "      <th>616342</th>\n",
       "      <td>2018</td>\n",
       "      <td>11</td>\n",
       "      <td>9</td>\n",
       "      <td>0</td>\n",
       "      <td>9</td>\n",
       "      <td>594</td>\n",
       "      <td>59.0</td>\n",
       "      <td>0</td>\n",
       "      <td>0</td>\n",
       "    </tr>\n",
       "    <tr>\n",
       "      <th>263267</th>\n",
       "      <td>2018</td>\n",
       "      <td>11</td>\n",
       "      <td>0</td>\n",
       "      <td>0</td>\n",
       "      <td>0</td>\n",
       "      <td>0</td>\n",
       "      <td>0.0</td>\n",
       "      <td>0</td>\n",
       "      <td>0</td>\n",
       "    </tr>\n",
       "  </tbody>\n",
       "</table>\n",
       "</div>"
      ],
      "text/plain": [
       "                Year  Month  Flights_Booked  Flights_with_Companions  \\\n",
       "Loyalty Number                                                         \n",
       "139479          2018     11               0                        0   \n",
       "710053          2017      9               0                        0   \n",
       "288774          2017      2               0                        0   \n",
       "921102          2017     12               0                        0   \n",
       "548752          2017      2               0                        0   \n",
       "258248          2018      8               0                        0   \n",
       "926451          2018     11               0                        0   \n",
       "270183          2018      6               0                        0   \n",
       "616342          2018     11               9                        0   \n",
       "263267          2018     11               0                        0   \n",
       "\n",
       "                Total_Flights  Distance  Points_Accumulated  Points_Redeemed  \\\n",
       "Loyalty Number                                                                 \n",
       "139479                      0         0                 0.0                0   \n",
       "710053                      0         0                 0.0                0   \n",
       "288774                      0         0                 0.0                0   \n",
       "921102                      0         0                 0.0                0   \n",
       "548752                      0         0                 0.0                0   \n",
       "258248                      0         0                 0.0                0   \n",
       "926451                      0         0                 0.0                0   \n",
       "270183                      0         0                 0.0                0   \n",
       "616342                      9       594                59.0                0   \n",
       "263267                      0         0                 0.0                0   \n",
       "\n",
       "                Dollar_Cost_Points_Redeemed  \n",
       "Loyalty Number                               \n",
       "139479                                    0  \n",
       "710053                                    0  \n",
       "288774                                    0  \n",
       "921102                                    0  \n",
       "548752                                    0  \n",
       "258248                                    0  \n",
       "926451                                    0  \n",
       "270183                                    0  \n",
       "616342                                    0  \n",
       "263267                                    0  "
      ]
     },
     "execution_count": 144,
     "metadata": {},
     "output_type": "execute_result"
    }
   ],
   "source": [
    "df1[df1.duplicated()].sample(10)"
   ]
  },
  {
   "cell_type": "code",
   "execution_count": 145,
   "metadata": {},
   "outputs": [
    {
     "data": {
      "text/plain": [
       "678205    72\n",
       "989528    48\n",
       "373638    48\n",
       "684889    48\n",
       "684881    48\n",
       "          ..\n",
       "428526    24\n",
       "428536    24\n",
       "428565    24\n",
       "428590    24\n",
       "999891    24\n",
       "Name: Loyalty Number, Length: 16737, dtype: int64"
      ]
     },
     "execution_count": 145,
     "metadata": {},
     "output_type": "execute_result"
    }
   ],
   "source": [
    "#revisando los duplicados \n",
    "df1.index.value_counts()"
   ]
  },
  {
   "cell_type": "code",
   "execution_count": 146,
   "metadata": {},
   "outputs": [],
   "source": [
    "#eliminar los duplicados\n",
    "df1 = df1.drop_duplicates()"
   ]
  },
  {
   "cell_type": "code",
   "execution_count": 147,
   "metadata": {},
   "outputs": [
    {
     "name": "stdout",
     "output_type": "stream",
     "text": [
      "<class 'pandas.core.frame.DataFrame'>\n",
      "Int64Index: 176919 entries, 100018 to 999940\n",
      "Data columns (total 9 columns):\n",
      " #   Column                       Non-Null Count   Dtype  \n",
      "---  ------                       --------------   -----  \n",
      " 0   Year                         176919 non-null  int64  \n",
      " 1   Month                        176919 non-null  int64  \n",
      " 2   Flights_Booked               176919 non-null  int64  \n",
      " 3   Flights_with_Companions      176919 non-null  int64  \n",
      " 4   Total_Flights                176919 non-null  int64  \n",
      " 5   Distance                     176919 non-null  int64  \n",
      " 6   Points_Accumulated           176919 non-null  float64\n",
      " 7   Points_Redeemed              176919 non-null  int64  \n",
      " 8   Dollar_Cost_Points_Redeemed  176919 non-null  int64  \n",
      "dtypes: float64(1), int64(8)\n",
      "memory usage: 13.5 MB\n"
     ]
    }
   ],
   "source": [
    "\n",
    "df1.info()"
   ]
  },
  {
   "cell_type": "code",
   "execution_count": 148,
   "metadata": {},
   "outputs": [
    {
     "data": {
      "text/html": [
       "<div>\n",
       "<style scoped>\n",
       "    .dataframe tbody tr th:only-of-type {\n",
       "        vertical-align: middle;\n",
       "    }\n",
       "\n",
       "    .dataframe tbody tr th {\n",
       "        vertical-align: top;\n",
       "    }\n",
       "\n",
       "    .dataframe thead th {\n",
       "        text-align: right;\n",
       "    }\n",
       "</style>\n",
       "<table border=\"1\" class=\"dataframe\">\n",
       "  <thead>\n",
       "    <tr style=\"text-align: right;\">\n",
       "      <th></th>\n",
       "      <th>Country</th>\n",
       "      <th>Province</th>\n",
       "      <th>City</th>\n",
       "      <th>Postal Code</th>\n",
       "      <th>Gender</th>\n",
       "      <th>Education</th>\n",
       "      <th>Salary</th>\n",
       "      <th>Marital Status</th>\n",
       "      <th>Loyalty Card</th>\n",
       "      <th>CLV</th>\n",
       "      <th>Enrollment Type</th>\n",
       "      <th>Enrollment Year</th>\n",
       "      <th>Enrollment Month</th>\n",
       "      <th>Cancellation Year</th>\n",
       "      <th>Cancellation Month</th>\n",
       "    </tr>\n",
       "    <tr>\n",
       "      <th>Loyalty Number</th>\n",
       "      <th></th>\n",
       "      <th></th>\n",
       "      <th></th>\n",
       "      <th></th>\n",
       "      <th></th>\n",
       "      <th></th>\n",
       "      <th></th>\n",
       "      <th></th>\n",
       "      <th></th>\n",
       "      <th></th>\n",
       "      <th></th>\n",
       "      <th></th>\n",
       "      <th></th>\n",
       "      <th></th>\n",
       "      <th></th>\n",
       "    </tr>\n",
       "  </thead>\n",
       "  <tbody>\n",
       "    <tr>\n",
       "      <th>480934</th>\n",
       "      <td>Canada</td>\n",
       "      <td>Ontario</td>\n",
       "      <td>Toronto</td>\n",
       "      <td>M2Z 4K1</td>\n",
       "      <td>Female</td>\n",
       "      <td>Bachelor</td>\n",
       "      <td>83236.0</td>\n",
       "      <td>Married</td>\n",
       "      <td>Star</td>\n",
       "      <td>3839.14</td>\n",
       "      <td>Standard</td>\n",
       "      <td>2016</td>\n",
       "      <td>2</td>\n",
       "      <td>NaN</td>\n",
       "      <td>NaN</td>\n",
       "    </tr>\n",
       "    <tr>\n",
       "      <th>549612</th>\n",
       "      <td>Canada</td>\n",
       "      <td>Alberta</td>\n",
       "      <td>Edmonton</td>\n",
       "      <td>T3G 6Y6</td>\n",
       "      <td>Male</td>\n",
       "      <td>College</td>\n",
       "      <td>NaN</td>\n",
       "      <td>Divorced</td>\n",
       "      <td>Star</td>\n",
       "      <td>3839.61</td>\n",
       "      <td>Standard</td>\n",
       "      <td>2016</td>\n",
       "      <td>3</td>\n",
       "      <td>NaN</td>\n",
       "      <td>NaN</td>\n",
       "    </tr>\n",
       "    <tr>\n",
       "      <th>429460</th>\n",
       "      <td>Canada</td>\n",
       "      <td>British Columbia</td>\n",
       "      <td>Vancouver</td>\n",
       "      <td>V6E 3D9</td>\n",
       "      <td>Male</td>\n",
       "      <td>College</td>\n",
       "      <td>NaN</td>\n",
       "      <td>Single</td>\n",
       "      <td>Star</td>\n",
       "      <td>3839.75</td>\n",
       "      <td>Standard</td>\n",
       "      <td>2014</td>\n",
       "      <td>7</td>\n",
       "      <td>2018.0</td>\n",
       "      <td>1.0</td>\n",
       "    </tr>\n",
       "    <tr>\n",
       "      <th>608370</th>\n",
       "      <td>Canada</td>\n",
       "      <td>Ontario</td>\n",
       "      <td>Toronto</td>\n",
       "      <td>P1W 1K4</td>\n",
       "      <td>Male</td>\n",
       "      <td>College</td>\n",
       "      <td>NaN</td>\n",
       "      <td>Single</td>\n",
       "      <td>Star</td>\n",
       "      <td>3839.75</td>\n",
       "      <td>Standard</td>\n",
       "      <td>2013</td>\n",
       "      <td>2</td>\n",
       "      <td>NaN</td>\n",
       "      <td>NaN</td>\n",
       "    </tr>\n",
       "    <tr>\n",
       "      <th>530508</th>\n",
       "      <td>Canada</td>\n",
       "      <td>Quebec</td>\n",
       "      <td>Hull</td>\n",
       "      <td>J8Y 3Z5</td>\n",
       "      <td>Male</td>\n",
       "      <td>Bachelor</td>\n",
       "      <td>103495.0</td>\n",
       "      <td>Married</td>\n",
       "      <td>Star</td>\n",
       "      <td>3842.79</td>\n",
       "      <td>Standard</td>\n",
       "      <td>2014</td>\n",
       "      <td>10</td>\n",
       "      <td>NaN</td>\n",
       "      <td>NaN</td>\n",
       "    </tr>\n",
       "  </tbody>\n",
       "</table>\n",
       "</div>"
      ],
      "text/plain": [
       "               Country          Province       City Postal Code  Gender  \\\n",
       "Loyalty Number                                                            \n",
       "480934          Canada           Ontario    Toronto     M2Z 4K1  Female   \n",
       "549612          Canada           Alberta   Edmonton     T3G 6Y6    Male   \n",
       "429460          Canada  British Columbia  Vancouver     V6E 3D9    Male   \n",
       "608370          Canada           Ontario    Toronto     P1W 1K4    Male   \n",
       "530508          Canada            Quebec       Hull     J8Y 3Z5    Male   \n",
       "\n",
       "               Education    Salary Marital Status Loyalty Card      CLV  \\\n",
       "Loyalty Number                                                            \n",
       "480934          Bachelor   83236.0        Married         Star  3839.14   \n",
       "549612           College       NaN       Divorced         Star  3839.61   \n",
       "429460           College       NaN         Single         Star  3839.75   \n",
       "608370           College       NaN         Single         Star  3839.75   \n",
       "530508          Bachelor  103495.0        Married         Star  3842.79   \n",
       "\n",
       "               Enrollment Type  Enrollment Year  Enrollment Month  \\\n",
       "Loyalty Number                                                      \n",
       "480934                Standard             2016                 2   \n",
       "549612                Standard             2016                 3   \n",
       "429460                Standard             2014                 7   \n",
       "608370                Standard             2013                 2   \n",
       "530508                Standard             2014                10   \n",
       "\n",
       "                Cancellation Year  Cancellation Month  \n",
       "Loyalty Number                                         \n",
       "480934                        NaN                 NaN  \n",
       "549612                        NaN                 NaN  \n",
       "429460                     2018.0                 1.0  \n",
       "608370                        NaN                 NaN  \n",
       "530508                        NaN                 NaN  "
      ]
     },
     "execution_count": 148,
     "metadata": {},
     "output_type": "execute_result"
    }
   ],
   "source": [
    "\n",
    "df2 = pd.read_csv(\"files/Customer Loyalty History.csv\", index_col = 0)\n",
    "df2.head()\n",
    "\n",
    "#abrir segundo csv"
   ]
  },
  {
   "cell_type": "code",
   "execution_count": 149,
   "metadata": {},
   "outputs": [
    {
     "data": {
      "text/plain": [
       "Index(['Country', 'Province', 'City', 'Postal Code', 'Gender', 'Education',\n",
       "       'Salary', 'Marital Status', 'Loyalty Card', 'CLV', 'Enrollment Type',\n",
       "       'Enrollment Year', 'Enrollment Month', 'Cancellation Year',\n",
       "       'Cancellation Month'],\n",
       "      dtype='object')"
      ]
     },
     "execution_count": 149,
     "metadata": {},
     "output_type": "execute_result"
    }
   ],
   "source": [
    "#explorar segundo csv\n",
    "df2.columns"
   ]
  },
  {
   "cell_type": "code",
   "execution_count": 150,
   "metadata": {},
   "outputs": [
    {
     "data": {
      "text/plain": [
       "16737"
      ]
     },
     "execution_count": 150,
     "metadata": {},
     "output_type": "execute_result"
    }
   ],
   "source": [
    "df2.shape[0]"
   ]
  },
  {
   "cell_type": "code",
   "execution_count": 151,
   "metadata": {},
   "outputs": [
    {
     "name": "stdout",
     "output_type": "stream",
     "text": [
      "<class 'pandas.core.frame.DataFrame'>\n",
      "Int64Index: 16737 entries, 480934 to 652627\n",
      "Data columns (total 15 columns):\n",
      " #   Column              Non-Null Count  Dtype  \n",
      "---  ------              --------------  -----  \n",
      " 0   Country             16737 non-null  object \n",
      " 1   Province            16737 non-null  object \n",
      " 2   City                16737 non-null  object \n",
      " 3   Postal Code         16737 non-null  object \n",
      " 4   Gender              16737 non-null  object \n",
      " 5   Education           16737 non-null  object \n",
      " 6   Salary              12499 non-null  float64\n",
      " 7   Marital Status      16737 non-null  object \n",
      " 8   Loyalty Card        16737 non-null  object \n",
      " 9   CLV                 16737 non-null  float64\n",
      " 10  Enrollment Type     16737 non-null  object \n",
      " 11  Enrollment Year     16737 non-null  int64  \n",
      " 12  Enrollment Month    16737 non-null  int64  \n",
      " 13  Cancellation Year   2067 non-null   float64\n",
      " 14  Cancellation Month  2067 non-null   float64\n",
      "dtypes: float64(4), int64(2), object(9)\n",
      "memory usage: 2.0+ MB\n"
     ]
    }
   ],
   "source": [
    "df2.info()"
   ]
  },
  {
   "cell_type": "code",
   "execution_count": 152,
   "metadata": {},
   "outputs": [
    {
     "data": {
      "text/plain": [
       "Index(['Country', 'Province', 'City', 'Postal_Code', 'Gender', 'Education',\n",
       "       'Salary', 'Marital_Status', 'Loyalty_Card', 'CLV', 'Enrollment_Type',\n",
       "       'Enrollment_Year', 'Enrollment_Month', 'Cancellation_Year',\n",
       "       'Cancellation_Month'],\n",
       "      dtype='object')"
      ]
     },
     "execution_count": 152,
     "metadata": {},
     "output_type": "execute_result"
    }
   ],
   "source": [
    "# cambiar nombre de las columnas quitando espacio, porque si no, no puedo utilizar .loc\n",
    "df2.columns = df2.columns.str.replace(\" \", \"_\")\n",
    "df2.columns"
   ]
  },
  {
   "cell_type": "code",
   "execution_count": 153,
   "metadata": {},
   "outputs": [
    {
     "data": {
      "text/plain": [
       "Loyalty Number\n",
       "287212     5123.48\n",
       "236003     2719.85\n",
       "863219    22952.07\n",
       "297167     8406.39\n",
       "Name: CLV, dtype: float64"
      ]
     },
     "execution_count": 153,
     "metadata": {},
     "output_type": "execute_result"
    }
   ],
   "source": [
    "df2[\"CLV\"].sample(4)"
   ]
  },
  {
   "cell_type": "code",
   "execution_count": 154,
   "metadata": {},
   "outputs": [
    {
     "data": {
      "text/plain": [
       "8564.77     13\n",
       "13024.13    12\n",
       "3808.12     12\n",
       "2359.42     12\n",
       "3731.50     12\n",
       "            ..\n",
       "16152.90     1\n",
       "5204.65      1\n",
       "5620.59      1\n",
       "5205.02      1\n",
       "61134.68     1\n",
       "Name: CLV, Length: 7984, dtype: int64"
      ]
     },
     "execution_count": 154,
     "metadata": {},
     "output_type": "execute_result"
    }
   ],
   "source": [
    "df2[\"CLV\"].unique()\n",
    "df2[\"CLV\"].value_counts()\n",
    "\n",
    "\n",
    "#tratando de entender qué significa CLV; Customer Lifetime Value; si lo necesito posteriormente hay modos distintos de calcularlo"
   ]
  },
  {
   "cell_type": "code",
   "execution_count": 155,
   "metadata": {},
   "outputs": [
    {
     "data": {
      "text/plain": [
       "count    16737.000000\n",
       "mean      7988.896536\n",
       "std       6860.982280\n",
       "min       1898.010000\n",
       "25%       3980.840000\n",
       "50%       5780.180000\n",
       "75%       8940.580000\n",
       "max      83325.380000\n",
       "Name: CLV, dtype: float64"
      ]
     },
     "execution_count": 155,
     "metadata": {},
     "output_type": "execute_result"
    }
   ],
   "source": [
    "df2[\"CLV\"].describe()"
   ]
  },
  {
   "cell_type": "code",
   "execution_count": 156,
   "metadata": {},
   "outputs": [
    {
     "data": {
      "text/plain": [
       "Loyalty Number\n",
       "480934     2\n",
       "549612     3\n",
       "429460     7\n",
       "608370     2\n",
       "530508    10\n",
       "          ..\n",
       "823768    12\n",
       "680886     9\n",
       "776187     3\n",
       "906428     4\n",
       "652627    12\n",
       "Name: Enrollment_Month, Length: 16737, dtype: int64"
      ]
     },
     "execution_count": 156,
     "metadata": {},
     "output_type": "execute_result"
    }
   ],
   "source": [
    "#convertir las Enrollement Year y Month  en float para unificar\n",
    "df2[\"Enrollment_Year\"].astype(\"int64\", errors = \"ignore\")\n",
    "df2[\"Enrollment_Month\"].astype(\"int64\", errors = \"ignore\")\n",
    "\n",
    "df2[\"Enrollment_Year\"]\n",
    "df2[\"Enrollment_Month\"]\n"
   ]
  },
  {
   "cell_type": "code",
   "execution_count": 157,
   "metadata": {},
   "outputs": [],
   "source": [
    "#Cancellation Year y Month también con \"Int64\", con errors=\"ignore\" porque tiene muchos nulos\n",
    "\n",
    "df2[\"Cancellation_Year\"] = df2[\"Cancellation_Year\"].astype('Int64', errors=\"ignore\")\n",
    "df2[\"Cancellation_Month\"] = df2[\"Cancellation_Month\"].astype('Int64', errors=\"ignore\")"
   ]
  },
  {
   "cell_type": "code",
   "execution_count": 158,
   "metadata": {},
   "outputs": [
    {
     "data": {
      "text/plain": [
       "Country                   0\n",
       "Province                  0\n",
       "City                      0\n",
       "Postal_Code               0\n",
       "Gender                    0\n",
       "Education                 0\n",
       "Salary                 4238\n",
       "Marital_Status            0\n",
       "Loyalty_Card              0\n",
       "CLV                       0\n",
       "Enrollment_Type           0\n",
       "Enrollment_Year           0\n",
       "Enrollment_Month          0\n",
       "Cancellation_Year     14670\n",
       "Cancellation_Month    14670\n",
       "dtype: int64"
      ]
     },
     "execution_count": 158,
     "metadata": {},
     "output_type": "execute_result"
    }
   ],
   "source": [
    "#gestión de nulos\n",
    "df2.isnull().sum()"
   ]
  },
  {
   "cell_type": "code",
   "execution_count": 159,
   "metadata": {},
   "outputs": [
    {
     "data": {
      "text/plain": [
       "Loyalty Number\n",
       "480934     83236.0\n",
       "549612         NaN\n",
       "429460         NaN\n",
       "608370         NaN\n",
       "530508    103495.0\n",
       "            ...   \n",
       "823768         NaN\n",
       "680886     89210.0\n",
       "776187         NaN\n",
       "906428    -57297.0\n",
       "652627     75049.0\n",
       "Name: Salary, Length: 16737, dtype: float64"
      ]
     },
     "execution_count": 159,
     "metadata": {},
     "output_type": "execute_result"
    }
   ],
   "source": [
    "df2[\"Salary\"]"
   ]
  },
  {
   "cell_type": "code",
   "execution_count": 160,
   "metadata": {},
   "outputs": [],
   "source": [
    "# transformar los números negativos en su valor absoluto\n",
    "df2[\"Salary\"] = df2[\"Salary\"].abs() "
   ]
  },
  {
   "cell_type": "code",
   "execution_count": 161,
   "metadata": {},
   "outputs": [
    {
     "data": {
      "text/plain": [
       "count     12499.000000\n",
       "mean      79359.340907\n",
       "std       34749.691464\n",
       "min        9081.000000\n",
       "25%       59246.500000\n",
       "50%       73455.000000\n",
       "75%       88517.500000\n",
       "max      407228.000000\n",
       "Name: Salary, dtype: float64"
      ]
     },
     "execution_count": 161,
     "metadata": {},
     "output_type": "execute_result"
    }
   ],
   "source": [
    "# análisis de las columnas con nulos, Salary. métricas\n",
    "df2[\"Salary\"].describe().T\n",
    "metricas_salary = df2[\"Salary\"].describe().T\n",
    "metricas_salary"
   ]
  },
  {
   "cell_type": "code",
   "execution_count": 162,
   "metadata": {},
   "outputs": [
    {
     "data": {
      "text/plain": [
       "25.321144769074504"
      ]
     },
     "execution_count": 162,
     "metadata": {},
     "output_type": "execute_result"
    }
   ],
   "source": [
    "\n",
    "#porcentaje de nulos, muy alto 25.32%\n",
    "df2[\"Salary\"].isnull().sum()/df2.shape[0]*100"
   ]
  },
  {
   "cell_type": "code",
   "execution_count": 163,
   "metadata": {},
   "outputs": [],
   "source": [
    "#!pip install scikit-learn\n",
    "#!pip install seaborn\n",
    "#!pip install matplotlib"
   ]
  },
  {
   "cell_type": "code",
   "execution_count": 164,
   "metadata": {},
   "outputs": [],
   "source": [
    "#pruebas de imputación \n",
    "\n",
    "#importar librerías\n",
    "\n",
    "from sklearn.impute import KNNImputer\n",
    "\n",
    "\n",
    "from sklearn.experimental import enable_iterative_imputer\n",
    "from sklearn.impute import IterativeImputer\n",
    "\n",
    "import seaborn as sns\n",
    "import matplotlib.pyplot as plt\n"
   ]
  },
  {
   "cell_type": "code",
   "execution_count": 165,
   "metadata": {},
   "outputs": [
    {
     "data": {
      "image/png": "[encoded data removed]",
      "text/plain": [
       "<Figure size 432x288 with 1 Axes>"
      ]
     },
     "metadata": {
      "needs_background": "light"
     },
     "output_type": "display_data"
    }
   ],
   "source": [
    "\"\"\"buscar valores atípicos, que dada la separación de la \n",
    "    media y la mediana, parece probable\"\"\"\n",
    "    \n",
    "sns.boxplot(data=df2, x=\"Salary\")\n",
    "\n",
    "# nombramos el eje que queremos que aparezca y rotamos las etiquetas \n",
    "plt.xticks(rotation = 90)\n",
    "\n",
    "\n",
    "plt.title(\"Salary: visualización de los valores atípicos\")\n",
    "sns.flierprops = dict(marker = \"s\",markerfacecolor = \"red\")\n",
    "\n",
    "\n",
    "plt.show();\n"
   ]
  },
  {
   "cell_type": "markdown",
   "metadata": {},
   "source": [
    "Los valores atípicos están concentrados a la derecha, y aunque son muy visibles, la media y cuartiles son bastante homogeneos y bien definidos, creo que lo más sensato sería imputar ese 25% de nulos dentro del rango intercuartílico"
   ]
  },
  {
   "cell_type": "code",
   "execution_count": 166,
   "metadata": {},
   "outputs": [
    {
     "data": {
      "text/plain": [
       "mean    79359.340907\n",
       "50%     73455.000000\n",
       "Name: Salary, dtype: float64"
      ]
     },
     "execution_count": 166,
     "metadata": {},
     "output_type": "execute_result"
    }
   ],
   "source": [
    "df2[\"Salary\"].describe()[[\"mean\", \"50%\"]] \n",
    "#los datos están muy sesgados, será mejor utilizar la mediana\n"
   ]
  },
  {
   "cell_type": "code",
   "execution_count": 167,
   "metadata": {},
   "outputs": [],
   "source": [
    "# importamos librería\n",
    "from sklearn.impute import SimpleImputer"
   ]
  },
  {
   "cell_type": "code",
   "execution_count": 168,
   "metadata": {},
   "outputs": [
    {
     "data": {
      "text/plain": [
       "array([[83236.],\n",
       "       [73455.],\n",
       "       [73455.],\n",
       "       ...,\n",
       "       [73455.],\n",
       "       [57297.],\n",
       "       [75049.]])"
      ]
     },
     "execution_count": 168,
     "metadata": {},
     "output_type": "execute_result"
    }
   ],
   "source": [
    "# creamos el objeto de la clase del SimpleImputer\n",
    "imputer_Salary = SimpleImputer(strategy = \"median\")\n",
    "\n",
    "\n",
    "Salary_imputado = imputer_Salary.fit_transform(df2[[\"Salary\"]])\n",
    "\n",
    "# Comprobación\n",
    "Salary_imputado"
   ]
  },
  {
   "cell_type": "code",
   "execution_count": 169,
   "metadata": {},
   "outputs": [
    {
     "name": "stdout",
     "output_type": "stream",
     "text": [
      "Después del 'SimpleImputer' tenemos 0 nulos\n"
     ]
    }
   ],
   "source": [
    "#  sobreescribir la columna original. \n",
    "df2[\"Salary\"] = Salary_imputado\n",
    "\n",
    "# comprobar nulos. \n",
    "print(f\"Después del 'SimpleImputer' tenemos {df2['Salary'].isnull().sum()} nulos\")"
   ]
  },
  {
   "cell_type": "code",
   "execution_count": 170,
   "metadata": {},
   "outputs": [
    {
     "data": {
      "text/plain": [
       "mean    77864.294198\n",
       "50%     73455.000000\n",
       "Name: Salary, dtype: float64"
      ]
     },
     "execution_count": 170,
     "metadata": {},
     "output_type": "execute_result"
    }
   ],
   "source": [
    "#comprobar nuevas estadísticas de \"Salary\"\n",
    "df2[\"Salary\"].describe()[[\"mean\", \"50%\"]] "
   ]
  },
  {
   "cell_type": "code",
   "execution_count": 171,
   "metadata": {},
   "outputs": [
    {
     "data": {
      "text/plain": [
       "<IntegerArray>\n",
       "[<NA>, 2018, 2015, 2017, 2014, 2016, 2013]\n",
       "Length: 7, dtype: Int64"
      ]
     },
     "execution_count": 171,
     "metadata": {},
     "output_type": "execute_result"
    }
   ],
   "source": [
    "#revisión \"Cancellation_year\"\n",
    "df2[\"Cancellation_Year\"].unique()"
   ]
  },
  {
   "cell_type": "code",
   "execution_count": 172,
   "metadata": {},
   "outputs": [
    {
     "data": {
      "text/plain": [
       "87.65011650833483"
      ]
     },
     "execution_count": 172,
     "metadata": {},
     "output_type": "execute_result"
    }
   ],
   "source": [
    "df2[\"Cancellation_Year\"].isnull().sum()/df2.shape[0]*100"
   ]
  },
  {
   "cell_type": "code",
   "execution_count": 173,
   "metadata": {},
   "outputs": [
    {
     "name": "stdout",
     "output_type": "stream",
     "text": [
      "Quedan los siguientes nulosCancellation_Year     0\n",
      "Cancellation_Month    0\n",
      "dtype: int64\n"
     ]
    }
   ],
   "source": [
    "\"\"\"para limpiar Cancellacion_Year y Cancelation_Month, las dos con un 87% de nulos\n",
    "y que además no vamos a emplear posteriormente, y así que no merece la pena imputarles valores\n",
    "\n",
    "Creamos lista con las columnas a cambiar \n",
    "\n",
    "iteramos con un for por esas columnas cambiando el tipo a str y reemplazando\n",
    "los np.nan por \"Unknown\"\n",
    "\n",
    "Revisamos \"\"\"\n",
    "\n",
    "columns_to_Unknown = [\"Cancellation_Year\", \"Cancellation_Month\"]\n",
    "\n",
    "\n",
    "for columna in columns_to_Unknown:\n",
    "    \n",
    "    \n",
    "    df2[columna] = df2[columna].astype(str).replace(np.nan, \"Unknown\")\n",
    "    \n",
    "\n",
    "print(f\"Quedan los siguientes nulos{df2[columns_to_Unknown].isnull().sum()}\")\n"
   ]
  },
  {
   "cell_type": "code",
   "execution_count": 174,
   "metadata": {},
   "outputs": [
    {
     "data": {
      "text/plain": [
       "0"
      ]
     },
     "execution_count": 174,
     "metadata": {},
     "output_type": "execute_result"
    }
   ],
   "source": [
    "#revisando si hay duplicados\n",
    "df2.duplicated().sum()"
   ]
  },
  {
   "cell_type": "markdown",
   "metadata": {},
   "source": [
    "**Unir los dos DataFrame**"
   ]
  },
  {
   "cell_type": "code",
   "execution_count": 175,
   "metadata": {},
   "outputs": [],
   "source": [
    "\"\"\" puesto que se trata de dos dataFrames que tienen información distinta referida a la misma clave\n",
    "    hay que hacer un merge izquierdo basado en el índice común Loyalty Number. De este modo se conservan todas las filas del más numeroso\n",
    "    aunque no tengan coincidencia\"\"\"\n",
    "\n",
    "df_final = df1.merge(right=df2, how='left', on= \"Loyalty Number\")"
   ]
  },
  {
   "cell_type": "code",
   "execution_count": 176,
   "metadata": {},
   "outputs": [
    {
     "data": {
      "text/html": [
       "<div>\n",
       "<style scoped>\n",
       "    .dataframe tbody tr th:only-of-type {\n",
       "        vertical-align: middle;\n",
       "    }\n",
       "\n",
       "    .dataframe tbody tr th {\n",
       "        vertical-align: top;\n",
       "    }\n",
       "\n",
       "    .dataframe thead th {\n",
       "        text-align: right;\n",
       "    }\n",
       "</style>\n",
       "<table border=\"1\" class=\"dataframe\">\n",
       "  <thead>\n",
       "    <tr style=\"text-align: right;\">\n",
       "      <th></th>\n",
       "      <th>Year</th>\n",
       "      <th>Month</th>\n",
       "      <th>Flights_Booked</th>\n",
       "      <th>Flights_with_Companions</th>\n",
       "      <th>Total_Flights</th>\n",
       "      <th>Distance</th>\n",
       "      <th>Points_Accumulated</th>\n",
       "      <th>Points_Redeemed</th>\n",
       "      <th>Dollar_Cost_Points_Redeemed</th>\n",
       "      <th>Country</th>\n",
       "      <th>Province</th>\n",
       "      <th>City</th>\n",
       "      <th>Postal_Code</th>\n",
       "      <th>Gender</th>\n",
       "      <th>Education</th>\n",
       "      <th>Salary</th>\n",
       "      <th>Marital_Status</th>\n",
       "      <th>Loyalty_Card</th>\n",
       "      <th>CLV</th>\n",
       "      <th>Enrollment_Type</th>\n",
       "      <th>Enrollment_Year</th>\n",
       "      <th>Enrollment_Month</th>\n",
       "      <th>Cancellation_Year</th>\n",
       "      <th>Cancellation_Month</th>\n",
       "    </tr>\n",
       "    <tr>\n",
       "      <th>Loyalty Number</th>\n",
       "      <th></th>\n",
       "      <th></th>\n",
       "      <th></th>\n",
       "      <th></th>\n",
       "      <th></th>\n",
       "      <th></th>\n",
       "      <th></th>\n",
       "      <th></th>\n",
       "      <th></th>\n",
       "      <th></th>\n",
       "      <th></th>\n",
       "      <th></th>\n",
       "      <th></th>\n",
       "      <th></th>\n",
       "      <th></th>\n",
       "      <th></th>\n",
       "      <th></th>\n",
       "      <th></th>\n",
       "      <th></th>\n",
       "      <th></th>\n",
       "      <th></th>\n",
       "      <th></th>\n",
       "      <th></th>\n",
       "      <th></th>\n",
       "    </tr>\n",
       "  </thead>\n",
       "  <tbody>\n",
       "    <tr>\n",
       "      <th>100018</th>\n",
       "      <td>2017</td>\n",
       "      <td>1</td>\n",
       "      <td>3</td>\n",
       "      <td>0</td>\n",
       "      <td>3</td>\n",
       "      <td>1521</td>\n",
       "      <td>152.0</td>\n",
       "      <td>0</td>\n",
       "      <td>0</td>\n",
       "      <td>Canada</td>\n",
       "      <td>Alberta</td>\n",
       "      <td>Edmonton</td>\n",
       "      <td>T9G 1W3</td>\n",
       "      <td>Female</td>\n",
       "      <td>Bachelor</td>\n",
       "      <td>92552.0</td>\n",
       "      <td>Married</td>\n",
       "      <td>Aurora</td>\n",
       "      <td>7919.20</td>\n",
       "      <td>Standard</td>\n",
       "      <td>2016</td>\n",
       "      <td>8</td>\n",
       "      <td>&lt;NA&gt;</td>\n",
       "      <td>&lt;NA&gt;</td>\n",
       "    </tr>\n",
       "    <tr>\n",
       "      <th>100102</th>\n",
       "      <td>2017</td>\n",
       "      <td>1</td>\n",
       "      <td>10</td>\n",
       "      <td>4</td>\n",
       "      <td>14</td>\n",
       "      <td>2030</td>\n",
       "      <td>203.0</td>\n",
       "      <td>0</td>\n",
       "      <td>0</td>\n",
       "      <td>Canada</td>\n",
       "      <td>Ontario</td>\n",
       "      <td>Toronto</td>\n",
       "      <td>M1R 4K3</td>\n",
       "      <td>Male</td>\n",
       "      <td>College</td>\n",
       "      <td>73455.0</td>\n",
       "      <td>Single</td>\n",
       "      <td>Nova</td>\n",
       "      <td>2887.74</td>\n",
       "      <td>Standard</td>\n",
       "      <td>2013</td>\n",
       "      <td>3</td>\n",
       "      <td>&lt;NA&gt;</td>\n",
       "      <td>&lt;NA&gt;</td>\n",
       "    </tr>\n",
       "    <tr>\n",
       "      <th>100140</th>\n",
       "      <td>2017</td>\n",
       "      <td>1</td>\n",
       "      <td>6</td>\n",
       "      <td>0</td>\n",
       "      <td>6</td>\n",
       "      <td>1200</td>\n",
       "      <td>120.0</td>\n",
       "      <td>0</td>\n",
       "      <td>0</td>\n",
       "      <td>Canada</td>\n",
       "      <td>British Columbia</td>\n",
       "      <td>Dawson Creek</td>\n",
       "      <td>U5I 4F1</td>\n",
       "      <td>Female</td>\n",
       "      <td>College</td>\n",
       "      <td>73455.0</td>\n",
       "      <td>Divorced</td>\n",
       "      <td>Nova</td>\n",
       "      <td>2838.07</td>\n",
       "      <td>Standard</td>\n",
       "      <td>2016</td>\n",
       "      <td>7</td>\n",
       "      <td>&lt;NA&gt;</td>\n",
       "      <td>&lt;NA&gt;</td>\n",
       "    </tr>\n",
       "    <tr>\n",
       "      <th>100214</th>\n",
       "      <td>2017</td>\n",
       "      <td>1</td>\n",
       "      <td>0</td>\n",
       "      <td>0</td>\n",
       "      <td>0</td>\n",
       "      <td>0</td>\n",
       "      <td>0.0</td>\n",
       "      <td>0</td>\n",
       "      <td>0</td>\n",
       "      <td>Canada</td>\n",
       "      <td>British Columbia</td>\n",
       "      <td>Vancouver</td>\n",
       "      <td>V5R 1W3</td>\n",
       "      <td>Male</td>\n",
       "      <td>Bachelor</td>\n",
       "      <td>63253.0</td>\n",
       "      <td>Married</td>\n",
       "      <td>Star</td>\n",
       "      <td>4170.57</td>\n",
       "      <td>Standard</td>\n",
       "      <td>2015</td>\n",
       "      <td>8</td>\n",
       "      <td>&lt;NA&gt;</td>\n",
       "      <td>&lt;NA&gt;</td>\n",
       "    </tr>\n",
       "    <tr>\n",
       "      <th>100428</th>\n",
       "      <td>2017</td>\n",
       "      <td>1</td>\n",
       "      <td>6</td>\n",
       "      <td>0</td>\n",
       "      <td>6</td>\n",
       "      <td>606</td>\n",
       "      <td>60.0</td>\n",
       "      <td>0</td>\n",
       "      <td>0</td>\n",
       "      <td>Canada</td>\n",
       "      <td>British Columbia</td>\n",
       "      <td>Vancouver</td>\n",
       "      <td>V6E 3D9</td>\n",
       "      <td>Male</td>\n",
       "      <td>Bachelor</td>\n",
       "      <td>63478.0</td>\n",
       "      <td>Married</td>\n",
       "      <td>Aurora</td>\n",
       "      <td>5845.43</td>\n",
       "      <td>Standard</td>\n",
       "      <td>2012</td>\n",
       "      <td>8</td>\n",
       "      <td>&lt;NA&gt;</td>\n",
       "      <td>&lt;NA&gt;</td>\n",
       "    </tr>\n",
       "  </tbody>\n",
       "</table>\n",
       "</div>"
      ],
      "text/plain": [
       "                Year  Month  Flights_Booked  Flights_with_Companions  \\\n",
       "Loyalty Number                                                         \n",
       "100018          2017      1               3                        0   \n",
       "100102          2017      1              10                        4   \n",
       "100140          2017      1               6                        0   \n",
       "100214          2017      1               0                        0   \n",
       "100428          2017      1               6                        0   \n",
       "\n",
       "                Total_Flights  Distance  Points_Accumulated  Points_Redeemed  \\\n",
       "Loyalty Number                                                                 \n",
       "100018                      3      1521               152.0                0   \n",
       "100102                     14      2030               203.0                0   \n",
       "100140                      6      1200               120.0                0   \n",
       "100214                      0         0                 0.0                0   \n",
       "100428                      6       606                60.0                0   \n",
       "\n",
       "                Dollar_Cost_Points_Redeemed Country          Province  \\\n",
       "Loyalty Number                                                          \n",
       "100018                                    0  Canada           Alberta   \n",
       "100102                                    0  Canada           Ontario   \n",
       "100140                                    0  Canada  British Columbia   \n",
       "100214                                    0  Canada  British Columbia   \n",
       "100428                                    0  Canada  British Columbia   \n",
       "\n",
       "                        City Postal_Code  Gender Education   Salary  \\\n",
       "Loyalty Number                                                        \n",
       "100018              Edmonton     T9G 1W3  Female  Bachelor  92552.0   \n",
       "100102               Toronto     M1R 4K3    Male   College  73455.0   \n",
       "100140          Dawson Creek     U5I 4F1  Female   College  73455.0   \n",
       "100214             Vancouver     V5R 1W3    Male  Bachelor  63253.0   \n",
       "100428             Vancouver     V6E 3D9    Male  Bachelor  63478.0   \n",
       "\n",
       "               Marital_Status Loyalty_Card      CLV Enrollment_Type  \\\n",
       "Loyalty Number                                                        \n",
       "100018                Married       Aurora  7919.20        Standard   \n",
       "100102                 Single         Nova  2887.74        Standard   \n",
       "100140               Divorced         Nova  2838.07        Standard   \n",
       "100214                Married         Star  4170.57        Standard   \n",
       "100428                Married       Aurora  5845.43        Standard   \n",
       "\n",
       "                Enrollment_Year  Enrollment_Month Cancellation_Year  \\\n",
       "Loyalty Number                                                        \n",
       "100018                     2016                 8              <NA>   \n",
       "100102                     2013                 3              <NA>   \n",
       "100140                     2016                 7              <NA>   \n",
       "100214                     2015                 8              <NA>   \n",
       "100428                     2012                 8              <NA>   \n",
       "\n",
       "               Cancellation_Month  \n",
       "Loyalty Number                     \n",
       "100018                       <NA>  \n",
       "100102                       <NA>  \n",
       "100140                       <NA>  \n",
       "100214                       <NA>  \n",
       "100428                       <NA>  "
      ]
     },
     "execution_count": 176,
     "metadata": {},
     "output_type": "execute_result"
    }
   ],
   "source": [
    "#comprobaciones\n",
    "df_final.head()"
   ]
  },
  {
   "cell_type": "code",
   "execution_count": 177,
   "metadata": {},
   "outputs": [
    {
     "data": {
      "text/plain": [
       "Index(['Year', 'Month', 'Flights_Booked', 'Flights_with_Companions',\n",
       "       'Total_Flights', 'Distance', 'Points_Accumulated', 'Points_Redeemed',\n",
       "       'Dollar_Cost_Points_Redeemed', 'Country', 'Province', 'City',\n",
       "       'Postal_Code', 'Gender', 'Education', 'Salary', 'Marital_Status',\n",
       "       'Loyalty_Card', 'CLV', 'Enrollment_Type', 'Enrollment_Year',\n",
       "       'Enrollment_Month', 'Cancellation_Year', 'Cancellation_Month'],\n",
       "      dtype='object')"
      ]
     },
     "execution_count": 177,
     "metadata": {},
     "output_type": "execute_result"
    }
   ],
   "source": [
    "df_final.columns"
   ]
  },
  {
   "cell_type": "code",
   "execution_count": 178,
   "metadata": {},
   "outputs": [
    {
     "data": {
      "text/plain": [
       "4246056"
      ]
     },
     "execution_count": 178,
     "metadata": {},
     "output_type": "execute_result"
    }
   ],
   "source": [
    "df_final.size"
   ]
  },
  {
   "cell_type": "code",
   "execution_count": 179,
   "metadata": {},
   "outputs": [
    {
     "data": {
      "text/plain": [
       "0"
      ]
     },
     "execution_count": 179,
     "metadata": {},
     "output_type": "execute_result"
    }
   ],
   "source": [
    "#comprobación duplicados\n",
    "df_final.duplicated().sum()"
   ]
  },
  {
   "cell_type": "code",
   "execution_count": 180,
   "metadata": {},
   "outputs": [
    {
     "data": {
      "text/plain": [
       "Year                           0\n",
       "Month                          0\n",
       "Flights_Booked                 0\n",
       "Flights_with_Companions        0\n",
       "Total_Flights                  0\n",
       "Distance                       0\n",
       "Points_Accumulated             0\n",
       "Points_Redeemed                0\n",
       "Dollar_Cost_Points_Redeemed    0\n",
       "Country                        0\n",
       "Province                       0\n",
       "City                           0\n",
       "Postal_Code                    0\n",
       "Gender                         0\n",
       "Education                      0\n",
       "Salary                         0\n",
       "Marital_Status                 0\n",
       "Loyalty_Card                   0\n",
       "CLV                            0\n",
       "Enrollment_Type                0\n",
       "Enrollment_Year                0\n",
       "Enrollment_Month               0\n",
       "Cancellation_Year              0\n",
       "Cancellation_Month             0\n",
       "dtype: int64"
      ]
     },
     "execution_count": 180,
     "metadata": {},
     "output_type": "execute_result"
    }
   ],
   "source": [
    "#comprobación nulos\n",
    "df_final.isnull().sum()"
   ]
  },
  {
   "cell_type": "code",
   "execution_count": 181,
   "metadata": {},
   "outputs": [],
   "source": [
    "#guardar el df_final en csv\n",
    "df_final.to_csv(\"files/customer_full.csv\")"
   ]
  },
  {
   "cell_type": "markdown",
   "metadata": {},
   "source": [
    "**Visualización**"
   ]
  },
  {
   "cell_type": "code",
   "execution_count": 182,
   "metadata": {},
   "outputs": [],
   "source": [
    "pd.set_option('display.max_columns', None)"
   ]
  },
  {
   "cell_type": "code",
   "execution_count": 183,
   "metadata": {},
   "outputs": [],
   "source": [
    "df = pd.read_csv(\"files/customer_full.csv\", index_col = 0)"
   ]
  },
  {
   "cell_type": "code",
   "execution_count": 184,
   "metadata": {},
   "outputs": [
    {
     "data": {
      "text/plain": [
       "Index(['Year', 'Month', 'Flights_Booked', 'Flights_with_Companions',\n",
       "       'Total_Flights', 'Distance', 'Points_Accumulated', 'Points_Redeemed',\n",
       "       'Dollar_Cost_Points_Redeemed', 'Country', 'Province', 'City',\n",
       "       'Postal_Code', 'Gender', 'Education', 'Salary', 'Marital_Status',\n",
       "       'Loyalty_Card', 'CLV', 'Enrollment_Type', 'Enrollment_Year',\n",
       "       'Enrollment_Month', 'Cancellation_Year', 'Cancellation_Month'],\n",
       "      dtype='object')"
      ]
     },
     "execution_count": 184,
     "metadata": {},
     "output_type": "execute_result"
    }
   ],
   "source": [
    "df.columns"
   ]
  },
  {
   "cell_type": "code",
   "execution_count": 185,
   "metadata": {},
   "outputs": [
    {
     "data": {
      "text/plain": [
       "12    15804\n",
       "7     15328\n",
       "8     15318\n",
       "6     15263\n",
       "9     14911\n",
       "10    14850\n",
       "3     14837\n",
       "11    14824\n",
       "5     14416\n",
       "2     14189\n",
       "4     14163\n",
       "1     13016\n",
       "Name: Month, dtype: int64"
      ]
     },
     "execution_count": 185,
     "metadata": {},
     "output_type": "execute_result"
    }
   ],
   "source": [
    "df['Month'].value_counts()"
   ]
  },
  {
   "cell_type": "markdown",
   "metadata": {},
   "source": [
    "1. ¿Cómo se distribuye la cantidad de vuelos reservados por mes durante el año?"
   ]
  },
  {
   "cell_type": "code",
   "execution_count": 201,
   "metadata": {},
   "outputs": [],
   "source": [
    "\n",
    "meses = df[\"Month\"].value_counts()\n",
    "reservas = df[\"Flights_Booked\"].value_counts()"
   ]
  },
  {
   "cell_type": "code",
   "execution_count": 206,
   "metadata": {},
   "outputs": [
    {
     "data": {
      "image/png": "[encoded data removed]",
      "text/plain": [
       "<Figure size 720x432 with 1 Axes>"
      ]
     },
     "metadata": {
      "needs_background": "light"
     },
     "output_type": "display_data"
    }
   ],
   "source": [
    "plt.figure(figsize=(10, 6))\n",
    "sns.barplot(x=\"Month\", y=\"Flights_Booked\", data=df, ci=None)  \n",
    "plt.title('Reservas de Vuelo por Mes')\n",
    "plt.xlabel('Meses')\n",
    "plt.ylabel('Número de Reservas')\n",
    "\n",
    "# Rotar las etiquetas \n",
    "plt.xticks(rotation=45)\n",
    "\n",
    "# Mostrar el gráfico\n",
    "plt.show()"
   ]
  },
  {
   "cell_type": "markdown",
   "metadata": {},
   "source": [
    "La visualización permite observar la subida de los meses de verano, con los mayores valores en el mes de julio y una subida puntual el mes de diciembre"
   ]
  },
  {
   "cell_type": "markdown",
   "metadata": {},
   "source": [
    "2. ¿Existe una relación entre la distancia de los vuelos y los puntos acumulados por los clientes?"
   ]
  },
  {
   "cell_type": "code",
   "execution_count": 207,
   "metadata": {},
   "outputs": [
    {
     "data": {
      "text/plain": [
       "Index(['Year', 'Month', 'Flights_Booked', 'Flights_with_Companions',\n",
       "       'Total_Flights', 'Distance', 'Points_Accumulated', 'Points_Redeemed',\n",
       "       'Dollar_Cost_Points_Redeemed', 'Country', 'Province', 'City',\n",
       "       'Postal_Code', 'Gender', 'Education', 'Salary', 'Marital_Status',\n",
       "       'Loyalty_Card', 'CLV', 'Enrollment_Type', 'Enrollment_Year',\n",
       "       'Enrollment_Month', 'Cancellation_Year', 'Cancellation_Month'],\n",
       "      dtype='object')"
      ]
     },
     "execution_count": 207,
     "metadata": {},
     "output_type": "execute_result"
    }
   ],
   "source": [
    "df.columns"
   ]
  },
  {
   "cell_type": "code",
   "execution_count": 209,
   "metadata": {},
   "outputs": [],
   "source": [
    "#importar libreria\n",
    "from itertools import combinations"
   ]
  },
  {
   "cell_type": "code",
   "execution_count": 214,
   "metadata": {},
   "outputs": [
    {
     "data": {
      "text/html": [
       "<div>\n",
       "<style scoped>\n",
       "    .dataframe tbody tr th:only-of-type {\n",
       "        vertical-align: middle;\n",
       "    }\n",
       "\n",
       "    .dataframe tbody tr th {\n",
       "        vertical-align: top;\n",
       "    }\n",
       "\n",
       "    .dataframe thead th {\n",
       "        text-align: right;\n",
       "    }\n",
       "</style>\n",
       "<table border=\"1\" class=\"dataframe\">\n",
       "  <thead>\n",
       "    <tr style=\"text-align: right;\">\n",
       "      <th></th>\n",
       "      <th>Distance</th>\n",
       "      <th>Points_Accumulated</th>\n",
       "    </tr>\n",
       "  </thead>\n",
       "  <tbody>\n",
       "    <tr>\n",
       "      <th>Distance</th>\n",
       "      <td>1.000000</td>\n",
       "      <td>0.982014</td>\n",
       "    </tr>\n",
       "    <tr>\n",
       "      <th>Points_Accumulated</th>\n",
       "      <td>0.982014</td>\n",
       "      <td>1.000000</td>\n",
       "    </tr>\n",
       "  </tbody>\n",
       "</table>\n",
       "</div>"
      ],
      "text/plain": [
       "                    Distance  Points_Accumulated\n",
       "Distance            1.000000            0.982014\n",
       "Points_Accumulated  0.982014            1.000000"
      ]
     },
     "execution_count": 214,
     "metadata": {},
     "output_type": "execute_result"
    }
   ],
   "source": [
    "\"\"\"creo una variable para comprobar el coeficiente de correlación entre la distancia y \n",
    "los puntos acumulados. Pearson sirve para relaciones lineales entre variables. El coeficiente de \n",
    "correlación es 0.982014, cercano a 1, lo que indica una correlación positiva fuerte. A más kilómetros,\n",
    "más puntos\"\"\"\n",
    "\n",
    "df_correlacion_distancia_puntos = df[['Distance', 'Points_Accumulated']].corr(method = \"pearson\")\n",
    "df_correlacion_distancia_puntos"
   ]
  },
  {
   "cell_type": "markdown",
   "metadata": {},
   "source": [
    "3. ¿Cuál es la distribución de los clientes por provincia o estado?"
   ]
  },
  {
   "cell_type": "code",
   "execution_count": 218,
   "metadata": {},
   "outputs": [],
   "source": [
    "clientes_por_provincia = df[\"Province\"].value_counts()"
   ]
  },
  {
   "cell_type": "code",
   "execution_count": 222,
   "metadata": {},
   "outputs": [
    {
     "data": {
      "image/png": "[encoded data removed]",
      "text/plain": [
       "<Figure size 864x432 with 1 Axes>"
      ]
     },
     "metadata": {
      "needs_background": "light"
     },
     "output_type": "display_data"
    }
   ],
   "source": [
    "\n",
    "plt.figure(figsize=(12, 6))\n",
    "sns.barplot(x=clientes_por_provincia.index, y=clientes_por_provincia.values, palette=\"pastel\")\n",
    "plt.title('Distribución de Clientes por Provincia')\n",
    "plt.xlabel('Provincia')\n",
    "plt.ylabel('Número de Clientes')\n",
    "plt.xticks(rotation=45, ha='right')  # Rotar las etiquetas del eje x para mayor claridad\n",
    "plt.tight_layout()  # Ajustar el diseño para evitar que se superpongan las etiquetas\n",
    "plt.show()\n"
   ]
  },
  {
   "cell_type": "markdown",
   "metadata": {},
   "source": [
    "4. ¿Cómo se compara el salario promedio entre los diferentes niveles educativos de los clientes?"
   ]
  }
 ],
 "metadata": {
  "kernelspec": {
   "display_name": "base",
   "language": "python",
   "name": "python3"
  },
  "language_info": {
   "codemirror_mode": {
    "name": "ipython",
    "version": 3
   },
   "file_extension": ".py",
   "mimetype": "text/x-python",
   "name": "python",
   "nbconvert_exporter": "python",
   "pygments_lexer": "ipython3",
   "version": "3.9.7"
  }
 },
 "nbformat": 4,
 "nbformat_minor": 2
}
